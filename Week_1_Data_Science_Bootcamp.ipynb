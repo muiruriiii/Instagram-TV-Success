{
  "nbformat": 4,
  "nbformat_minor": 0,
  "metadata": {
    "colab": {
      "provenance": [],
      "authorship_tag": "ABX9TyOcMwlhSVPwaaIZaEQKrsVe",
      "include_colab_link": true
    },
    "kernelspec": {
      "name": "python3",
      "display_name": "Python 3"
    },
    "language_info": {
      "name": "python"
    }
  },
  "cells": [
    {
      "cell_type": "markdown",
      "metadata": {
        "id": "view-in-github",
        "colab_type": "text"
      },
      "source": [
        "<a href=\"https://colab.research.google.com/github/muiruriiii/Lux-Tech-Academy-Week-1/blob/main/Week_1_Data_Science_Bootcamp.ipynb\" target=\"_parent\"><img src=\"https://colab.research.google.com/assets/colab-badge.svg\" alt=\"Open In Colab\"/></a>"
      ]
    },
    {
      "cell_type": "markdown",
      "source": [
        "### Project: Let’s say you’re a Product Data Scientist at Instagram. How would you measure the success of the Instagram TV product?"
      ],
      "metadata": {
        "id": "OJcftTcMY3WR"
      }
    },
    {
      "cell_type": "code",
      "source": [
        "##Explanation and Comments:\n",
        "\n",
        "## Load the dataset: Loading the dataset containing fields like user_id, video_id, views, likes, comments, shares, duration, and engagement_rate.\n",
        "\n",
        "## Feature selection: Choosing relevant features for the model. In this example, I've selected 'views', 'likes', 'comments', 'shares', and 'duration' as features that can impact the engagement rate.\n",
        "\n",
        "## Split the data: Split the dataset into training and testing sets using train_test_split. This allows you to train the model on one portion of the data and evaluate its performance on another.\n",
        "\n",
        "## Create and train the model: I have used a RandomForestRegressor model, which is an ensemble model capable of handling both linear and non-linear relationships in the data.\n",
        "\n",
        "## Make predictions: Use the trained model to predict engagement rates on the test set.\n",
        "\n",
        "## Evaluate the model: Calculate the Root Mean Squared Error (RMSE) and R-squared (R2) to assess how well the model predicts the engagement rate.\n",
        "\n",
        "## Once the model is trained and evaluated, you can use it to make predictions for new data, allowing you to measure the success of IGTV videos by predicting their engagement rates.\n"
      ],
      "metadata": {
        "id": "WZR0HehNl6HS"
      },
      "execution_count": 8,
      "outputs": []
    },
    {
      "cell_type": "code",
      "source": [
        "import pandas as pd\n",
        "from sklearn.model_selection import train_test_split\n",
        "from sklearn.ensemble import RandomForestRegressor\n",
        "from sklearn.metrics import mean_squared_error, r2_score"
      ],
      "metadata": {
        "id": "SewsXA2rZC_L"
      },
      "execution_count": 9,
      "outputs": []
    },
    {
      "cell_type": "code",
      "source": [
        "# Load the dataset (replace 'your_dataset.csv' with the actual dataset file)\n",
        "df = pd.read_csv('/content/instagram_success.csv')"
      ],
      "metadata": {
        "id": "d1rtWoDfk36M"
      },
      "execution_count": 10,
      "outputs": []
    },
    {
      "cell_type": "code",
      "source": [
        "# Feature selection: Choose relevant features for the model\n",
        "features = ['views', 'likes', 'comments', 'shares', 'duration']\n"
      ],
      "metadata": {
        "id": "riyjNdkvlITZ"
      },
      "execution_count": 11,
      "outputs": []
    },
    {
      "cell_type": "code",
      "source": [
        "# Split the data into training and testing sets (adjust test_size as needed)\n",
        "X = df[features]\n",
        "y = df['engagement_rate']\n",
        "X_train, X_test, y_train, y_test = train_test_split(X, y, test_size=0.2, random_state=42)"
      ],
      "metadata": {
        "id": "tb2xyV2PlP-u"
      },
      "execution_count": 12,
      "outputs": []
    },
    {
      "cell_type": "code",
      "source": [
        "# Create and train a RandomForestRegressor model (you can experiment with hyperparameters)\n",
        "model = RandomForestRegressor(n_estimators=10, random_state=42)\n",
        "model.fit(X_train, y_train)\n",
        "\n",
        "# Make predictions on the test set\n",
        "y_pred = model.predict(X_test)\n"
      ],
      "metadata": {
        "id": "69isNFC6lTiQ"
      },
      "execution_count": 13,
      "outputs": []
    },
    {
      "cell_type": "code",
      "source": [
        "# Evaluate the model's performance\n",
        "rmse = mean_squared_error(y_test, y_pred, squared=False)\n",
        "r2 = r2_score(y_test, y_pred)\n",
        "\n",
        "print(f'Root Mean Squared Error (RMSE): {rmse}')\n",
        "print(f'R-squared (R2): {r2}')\n"
      ],
      "metadata": {
        "colab": {
          "base_uri": "https://localhost:8080/"
        },
        "id": "v57FKiixlWVc",
        "outputId": "f2a30829-c7d8-4383-b63d-99f3206e60d5"
      },
      "execution_count": 14,
      "outputs": [
        {
          "output_type": "stream",
          "name": "stdout",
          "text": [
            "Root Mean Squared Error (RMSE): 34.370881571469766\n",
            "R-squared (R2): -0.23258367764283627\n"
          ]
        }
      ]
    }
  ]
}